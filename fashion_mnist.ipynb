{
 "cells": [
  {
   "cell_type": "code",
   "execution_count": 2,
   "metadata": {},
   "outputs": [],
   "source": [
    "import os #for system level directory manipulations.\n",
    "import torch #base package for tensor support.\n",
    "import pickle #for storing the reports in a python efficient manner.\n",
    "import numpy as np #base package for underlying numerical computations.\n",
    "import matplotlib.pyplot as plt #base package for data visualization.\n",
    "\n",
    "from torch import nn #nn module for creating neural nets.\n",
    "from torch.utils.data import DataLoader #for memory and compute efficient handling of datasets, for batching etc.\n",
    "from torch.utils.data import random_split #for train-validation dataset splitting.\n",
    "\n",
    "from torchvision import datasets #for publically available vision datasets.\n",
    "from torchvision import transforms #for creating transforms that can be applied on the fly to each sample in a dataset. \n",
    "\n",
    "from collections import OrderedDict #data structure for creating the nn sequential model."
   ]
  },
  {
   "cell_type": "code",
   "execution_count": 3,
   "metadata": {},
   "outputs": [
    {
     "name": "stdout",
     "output_type": "stream",
     "text": [
      "GPU Available : True\n",
      "MacOS Metal Backend Avaialble : False\n",
      "Setting the default device to :  cuda\n"
     ]
    }
   ],
   "source": [
    "# checking if the gpu support is available through cuda.\n",
    "gpu = torch.cuda.is_available()\n",
    "print(f\"GPU Available : {gpu}\")\n",
    "\n",
    "# checking if macOS metal backend is avaialble.\n",
    "mps = torch.backends.mps.is_available()\n",
    "print(f\"MacOS Metal Backend Avaialble : {mps}\")\n",
    "\n",
    "# set the appropriate device to ensure hardware agnostic portable source code.\n",
    "device = 'cuda' if gpu else 'mps' if mps else 'cpu'\n",
    "print(f\"Setting the default device to : \", device)\n"
   ]
  },
  {
   "cell_type": "code",
   "execution_count": 4,
   "metadata": {},
   "outputs": [],
   "source": [
    "#create a hyper-parameter dictionary for the network.\n",
    "param_dict = dict()\n",
    "param_dict[\"batch_size\"] = 64\n",
    "param_dict[\"num_epochs\"] = 10\n",
    "param_dict[\"lr\"] = 1e-3\n",
    "param_dict[\"num_layers\"] = 3\n",
    "param_dict[\"inp_size\"] = 28 * 28\n",
    "layer_size_list = [512, 512, 10]\n",
    "param_dict[\"layer_size\"] = {str(i):layer_size_list[i] for i in range(param_dict[\"num_layers\"])}"
   ]
  },
  {
   "cell_type": "code",
   "execution_count": 5,
   "metadata": {},
   "outputs": [
    {
     "name": "stdout",
     "output_type": "stream",
     "text": [
      "Downloading http://fashion-mnist.s3-website.eu-central-1.amazonaws.com/train-images-idx3-ubyte.gz\n",
      "Downloading http://fashion-mnist.s3-website.eu-central-1.amazonaws.com/train-images-idx3-ubyte.gz to /home/arun/projects/old/pytorch_networks/data/train/FashionMNIST/raw/train-images-idx3-ubyte.gz\n"
     ]
    },
    {
     "name": "stderr",
     "output_type": "stream",
     "text": [
      "100.0%\n"
     ]
    },
    {
     "name": "stdout",
     "output_type": "stream",
     "text": [
      "Extracting /home/arun/projects/old/pytorch_networks/data/train/FashionMNIST/raw/train-images-idx3-ubyte.gz to /home/arun/projects/old/pytorch_networks/data/train/FashionMNIST/raw\n",
      "\n",
      "Downloading http://fashion-mnist.s3-website.eu-central-1.amazonaws.com/train-labels-idx1-ubyte.gz\n",
      "Downloading http://fashion-mnist.s3-website.eu-central-1.amazonaws.com/train-labels-idx1-ubyte.gz to /home/arun/projects/old/pytorch_networks/data/train/FashionMNIST/raw/train-labels-idx1-ubyte.gz\n"
     ]
    },
    {
     "name": "stderr",
     "output_type": "stream",
     "text": [
      "100.0%\n"
     ]
    },
    {
     "name": "stdout",
     "output_type": "stream",
     "text": [
      "Extracting /home/arun/projects/old/pytorch_networks/data/train/FashionMNIST/raw/train-labels-idx1-ubyte.gz to /home/arun/projects/old/pytorch_networks/data/train/FashionMNIST/raw\n",
      "\n",
      "Downloading http://fashion-mnist.s3-website.eu-central-1.amazonaws.com/t10k-images-idx3-ubyte.gz\n",
      "Downloading http://fashion-mnist.s3-website.eu-central-1.amazonaws.com/t10k-images-idx3-ubyte.gz to /home/arun/projects/old/pytorch_networks/data/train/FashionMNIST/raw/t10k-images-idx3-ubyte.gz\n"
     ]
    },
    {
     "name": "stderr",
     "output_type": "stream",
     "text": [
      "100.0%\n"
     ]
    },
    {
     "name": "stdout",
     "output_type": "stream",
     "text": [
      "Extracting /home/arun/projects/old/pytorch_networks/data/train/FashionMNIST/raw/t10k-images-idx3-ubyte.gz to /home/arun/projects/old/pytorch_networks/data/train/FashionMNIST/raw\n",
      "\n",
      "Downloading http://fashion-mnist.s3-website.eu-central-1.amazonaws.com/t10k-labels-idx1-ubyte.gz\n",
      "Downloading http://fashion-mnist.s3-website.eu-central-1.amazonaws.com/t10k-labels-idx1-ubyte.gz to /home/arun/projects/old/pytorch_networks/data/train/FashionMNIST/raw/t10k-labels-idx1-ubyte.gz\n"
     ]
    },
    {
     "name": "stderr",
     "output_type": "stream",
     "text": [
      "100.0%\n"
     ]
    },
    {
     "name": "stdout",
     "output_type": "stream",
     "text": [
      "Extracting /home/arun/projects/old/pytorch_networks/data/train/FashionMNIST/raw/t10k-labels-idx1-ubyte.gz to /home/arun/projects/old/pytorch_networks/data/train/FashionMNIST/raw\n",
      "\n",
      "Downloading http://fashion-mnist.s3-website.eu-central-1.amazonaws.com/train-images-idx3-ubyte.gz\n",
      "Downloading http://fashion-mnist.s3-website.eu-central-1.amazonaws.com/train-images-idx3-ubyte.gz to /home/arun/projects/old/pytorch_networks/data/test/FashionMNIST/raw/train-images-idx3-ubyte.gz\n"
     ]
    },
    {
     "name": "stderr",
     "output_type": "stream",
     "text": [
      "100.0%\n"
     ]
    },
    {
     "name": "stdout",
     "output_type": "stream",
     "text": [
      "Extracting /home/arun/projects/old/pytorch_networks/data/test/FashionMNIST/raw/train-images-idx3-ubyte.gz to /home/arun/projects/old/pytorch_networks/data/test/FashionMNIST/raw\n",
      "\n",
      "Downloading http://fashion-mnist.s3-website.eu-central-1.amazonaws.com/train-labels-idx1-ubyte.gz\n",
      "Downloading http://fashion-mnist.s3-website.eu-central-1.amazonaws.com/train-labels-idx1-ubyte.gz to /home/arun/projects/old/pytorch_networks/data/test/FashionMNIST/raw/train-labels-idx1-ubyte.gz\n"
     ]
    },
    {
     "name": "stderr",
     "output_type": "stream",
     "text": [
      "100.0%\n"
     ]
    },
    {
     "name": "stdout",
     "output_type": "stream",
     "text": [
      "Extracting /home/arun/projects/old/pytorch_networks/data/test/FashionMNIST/raw/train-labels-idx1-ubyte.gz to /home/arun/projects/old/pytorch_networks/data/test/FashionMNIST/raw\n",
      "\n",
      "Downloading http://fashion-mnist.s3-website.eu-central-1.amazonaws.com/t10k-images-idx3-ubyte.gz\n",
      "Downloading http://fashion-mnist.s3-website.eu-central-1.amazonaws.com/t10k-images-idx3-ubyte.gz to /home/arun/projects/old/pytorch_networks/data/test/FashionMNIST/raw/t10k-images-idx3-ubyte.gz\n"
     ]
    },
    {
     "name": "stderr",
     "output_type": "stream",
     "text": [
      "100.0%\n"
     ]
    },
    {
     "name": "stdout",
     "output_type": "stream",
     "text": [
      "Extracting /home/arun/projects/old/pytorch_networks/data/test/FashionMNIST/raw/t10k-images-idx3-ubyte.gz to /home/arun/projects/old/pytorch_networks/data/test/FashionMNIST/raw\n",
      "\n",
      "Downloading http://fashion-mnist.s3-website.eu-central-1.amazonaws.com/t10k-labels-idx1-ubyte.gz\n",
      "Downloading http://fashion-mnist.s3-website.eu-central-1.amazonaws.com/t10k-labels-idx1-ubyte.gz to /home/arun/projects/old/pytorch_networks/data/test/FashionMNIST/raw/t10k-labels-idx1-ubyte.gz\n"
     ]
    },
    {
     "name": "stderr",
     "output_type": "stream",
     "text": [
      "100.0%"
     ]
    },
    {
     "name": "stdout",
     "output_type": "stream",
     "text": [
      "Extracting /home/arun/projects/old/pytorch_networks/data/test/FashionMNIST/raw/t10k-labels-idx1-ubyte.gz to /home/arun/projects/old/pytorch_networks/data/test/FashionMNIST/raw\n",
      "\n"
     ]
    },
    {
     "name": "stderr",
     "output_type": "stream",
     "text": [
      "\n"
     ]
    }
   ],
   "source": [
    "\n",
    "# define the path structure of the data.\n",
    "data_path = os.path.abspath(\"./data\")\n",
    "train_data_path = os.path.join(data_path, \"train\")\n",
    "test_data_path = os.path.join(data_path, \"test\")\n",
    "\n",
    "# define the path structure of the outputs.\n",
    "out_path = os.path.abspath(\"./out\")\n",
    "model_out_path = os.path.join(data_path, \"model\")\n",
    "report_out_path = os.path.join(data_path, \"report\")\n",
    "\n",
    "# create the path structure if necessary.\n",
    "os.makedirs(train_data_path, exist_ok=True)\n",
    "os.makedirs(test_data_path, exist_ok=True)\n",
    "os.makedirs(model_out_path, exist_ok=True)\n",
    "os.makedirs(report_out_path, exist_ok=True)\n",
    "\n",
    "# create the transform/target_transform from a list of transforms.\n",
    "train_transform = transforms.Compose([transforms.ToTensor()])\n",
    "test_transform = transforms.Compose([transforms.ToTensor()])\n",
    "\n",
    "# create the test/train dataset objects.\n",
    "train_data = datasets.FashionMNIST(\n",
    "    root=train_data_path, train=True, download=True, transform=train_transform)\n",
    "test_data = datasets.FashionMNIST(\n",
    "    root=test_data_path, train=False, download=True, transform=test_transform)\n",
    "\n",
    "#split the train data into a validation and training set.\n",
    "data_len = len(train_data)\n",
    "val_split = 0.2\n",
    "val_len = int(np.floor(val_split * data_len))\n",
    "train_len = data_len - val_len\n",
    "\n",
    "train_data, val_data = random_split(train_data, [train_len, val_len])\n",
    "\n",
    "# create the train, validation and test dataloader objects for batching and efficient loading.\n",
    "train_loader = DataLoader(train_data, batch_size=param_dict[\"batch_size\"])\n",
    "val_loader = DataLoader(val_data, batch_size=param_dict[\"batch_size\"])\n",
    "test_loader = DataLoader(test_data, batch_size=param_dict[\"batch_size\"])\n"
   ]
  },
  {
   "cell_type": "code",
   "execution_count": 6,
   "metadata": {},
   "outputs": [],
   "source": [
    "#create the neural network model as a subclass of nn.Module of pytorch.\n",
    "class FashionMNISTNet(nn.Module):\n",
    "    def __init__(self, param_dict):\n",
    "        super().__init__()\n",
    "        self.flatten = nn.Flatten()\n",
    "        self.param_dict = param_dict\n",
    "        module_list = self.get_nn_modules()\n",
    "\n",
    "        self.dense_relu_module = nn.Sequential(module_list)\n",
    "    \n",
    "    def get_nn_modules(self):\n",
    "        \"\"\" \n",
    "        Defines the architecture of the nn block.\n",
    "        Architecture logic should be an ordered dictionary. \n",
    "        \"\"\"\n",
    "        module_list = OrderedDict() #container for holding all the submodules of the block.\n",
    "        \n",
    "        #add the layers till the last layer.\n",
    "        for idx in range(self.param_dict[\"num_layers\"] - 1):\n",
    "            inp_size = self.param_dict[\"inp_size\"] if idx < 1 else self.param_dict[\"layer_size\"][str(idx - 1)]\n",
    "            out_size = self.param_dict[\"layer_size\"][str(idx)]\n",
    "\n",
    "            module_list[str(2 * idx)] = nn.Linear(inp_size, out_size)\n",
    "            module_list[str(2 * idx + 1)] = nn.ReLU()\n",
    "        \n",
    "        #add the final layer.\n",
    "        inp_size = self.param_dict[\"layer_size\"][str(idx)]\n",
    "        out_size = self.param_dict[\"layer_size\"][str(idx + 1)]\n",
    "        module_list[str(2 * self.param_dict[\"num_layers\"])] = nn.Linear(inp_size, out_size)\n",
    "\n",
    "        return module_list\n",
    "\n",
    "    def forward(self, X):\n",
    "        \"\"\"\n",
    "        Defines the forward pass of the nn model\n",
    "        \"\"\"\n",
    "        X = self.flatten(X)\n",
    "        logits = self.dense_relu_module(X)\n",
    "        return logits"
   ]
  },
  {
   "cell_type": "code",
   "execution_count": 7,
   "metadata": {},
   "outputs": [],
   "source": [
    "#create the neural network model.\n",
    "model = FashionMNISTNet(param_dict).to(device)\n",
    "#choose the criterion based on which training should be performed.\n",
    "loss_fn = nn.CrossEntropyLoss()\n",
    "#choose the optimizer for reducing the above criterion on the training set.\n",
    "optimizer = torch.optim.SGD(model.parameters(), lr=param_dict[\"lr\"])"
   ]
  },
  {
   "cell_type": "code",
   "execution_count": 8,
   "metadata": {},
   "outputs": [],
   "source": [
    "def training_loop(data_loader, model, loss_fn, optimizer, device):\n",
    "    \"\"\"\n",
    "    Defines a single loop through the entire training data.\n",
    "    \"\"\"\n",
    "    train_report = {\"loss\": 0, \"num_true\": 0, \"num_total\": 0}\n",
    "\n",
    "    total_loss = 0\n",
    "    num_true = 0\n",
    "    num_batches = len(data_loader)\n",
    "    num_total = len(data_loader.dataset)\n",
    "\n",
    "    model.train()\n",
    "    for batch_id, (X, y) in enumerate(data_loader):\n",
    "        X, y = X.to(device), y.to(device)\n",
    "        y_pred = model(X)\n",
    "        loss_val = loss_fn(y_pred, y)\n",
    "\n",
    "        optimizer.zero_grad()\n",
    "        loss_val.backward()\n",
    "        optimizer.step()\n",
    "\n",
    "        total_loss += loss_val.item()\n",
    "        cur_true = (y_pred.argmax(1) == y).float().sum().item()\n",
    "        num_true += cur_true\n",
    "\n",
    "    train_report[\"loss\"] = total_loss/num_batches\n",
    "    train_report[\"num_true\"] = num_true\n",
    "    train_report[\"num_total\"] = num_total\n",
    "\n",
    "    return train_report"
   ]
  },
  {
   "cell_type": "code",
   "execution_count": 9,
   "metadata": {},
   "outputs": [],
   "source": [
    "def inference_loop(data_loader, model, loss_fn, device):\n",
    "    \"\"\"\n",
    "    Defines a single loop through the entire inference data.\n",
    "    \"\"\"\n",
    "    infer_report = {\"loss\": 0, \"num_true\": 0, \"num_total\": 0}\n",
    "\n",
    "    total_loss = 0\n",
    "    num_true = 0\n",
    "    num_batches = len(data_loader)\n",
    "    num_total = len(data_loader.dataset)\n",
    "\n",
    "    model.eval()\n",
    "    with torch.no_grad():\n",
    "        for batch_id, (X, y) in enumerate(data_loader):\n",
    "            X, y = X.to(device), y.to(device)\n",
    "            y_pred = model(X)\n",
    "            loss_val = loss_fn(y_pred, y)\n",
    "\n",
    "            total_loss += loss_val.item()\n",
    "            cur_true = (y_pred.argmax(1) == y).float().sum().item()\n",
    "            num_true += cur_true\n",
    "\n",
    "        infer_report[\"loss\"] = total_loss/num_batches\n",
    "        infer_report[\"num_true\"] = num_true\n",
    "        infer_report[\"num_total\"] = num_total\n",
    "\n",
    "    return infer_report"
   ]
  },
  {
   "cell_type": "code",
   "execution_count": 10,
   "metadata": {},
   "outputs": [
    {
     "name": "stdout",
     "output_type": "stream",
     "text": [
      "Training Started\n",
      "Running for Epoch : 0\n",
      "Train Loss : 2.2484359191258747, Num True : 9453.0, Num Total : 48000\n",
      "Better Model Found. Saving the Better Model.\n",
      "Val Loss : 2.1930072789496564, Num True : 3942.0, Num Total : 12000\n",
      "Running for Epoch : 1\n",
      "Train Loss : 2.117652224381765, Num True : 21668.0, Num Total : 48000\n",
      "Better Model Found. Saving the Better Model.\n",
      "Val Loss : 2.0298287329521587, Num True : 6459.0, Num Total : 12000\n",
      "Running for Epoch : 2\n",
      "Train Loss : 1.901086640516917, Num True : 27733.0, Num Total : 48000\n",
      "Better Model Found. Saving the Better Model.\n",
      "Val Loss : 1.7567641513144716, Num True : 7220.0, Num Total : 12000\n",
      "Running for Epoch : 3\n",
      "Train Loss : 1.6025383855501811, Num True : 29715.0, Num Total : 48000\n",
      "Better Model Found. Saving the Better Model.\n",
      "Val Loss : 1.4589320028081854, Num True : 7540.0, Num Total : 12000\n",
      "Running for Epoch : 4\n",
      "Train Loss : 1.3434046619733175, Num True : 30595.0, Num Total : 48000\n",
      "Better Model Found. Saving the Better Model.\n",
      "Val Loss : 1.2432590856197032, Num True : 7754.0, Num Total : 12000\n",
      "Running for Epoch : 5\n",
      "Train Loss : 1.166656190554301, Num True : 31279.0, Num Total : 48000\n",
      "Better Model Found. Saving the Better Model.\n",
      "Val Loss : 1.0999858293761597, Num True : 7906.0, Num Total : 12000\n",
      "Running for Epoch : 6\n",
      "Train Loss : 1.0482824312051138, Num True : 31739.0, Num Total : 48000\n",
      "Better Model Found. Saving the Better Model.\n",
      "Val Loss : 1.002088521389251, Num True : 8036.0, Num Total : 12000\n",
      "Running for Epoch : 7\n",
      "Train Loss : 0.9656976563930512, Num True : 32238.0, Num Total : 48000\n",
      "Better Model Found. Saving the Better Model.\n",
      "Val Loss : 0.9319385442327945, Num True : 8141.0, Num Total : 12000\n",
      "Running for Epoch : 8\n",
      "Train Loss : 0.9052969526449839, Num True : 32739.0, Num Total : 48000\n",
      "Better Model Found. Saving the Better Model.\n",
      "Val Loss : 0.8793904809875691, Num True : 8246.0, Num Total : 12000\n",
      "Running for Epoch : 9\n",
      "Train Loss : 0.8592482244968415, Num True : 33245.0, Num Total : 48000\n",
      "Better Model Found. Saving the Better Model.\n",
      "Val Loss : 0.8385317690194921, Num True : 8382.0, Num Total : 12000\n",
      "Training Completed Successfully\n"
     ]
    }
   ],
   "source": [
    "#train and save the best model on the validation loss.\n",
    "best_val_loss = torch.inf\n",
    "full_report = {\"training\": list(), \"validation\": list()}\n",
    "\n",
    "print(\"Training Started\")\n",
    "for epoch_id in range(param_dict[\"num_epochs\"]):\n",
    "    print(f\"Running for Epoch : {epoch_id}\")\n",
    "    train_report = training_loop(\n",
    "        train_loader, model, loss_fn, optimizer, device)\n",
    "    print(\n",
    "        f\"Train Loss : {train_report['loss']}, Num True : {train_report['num_true']}, Num Total : {train_report['num_total']}\")\n",
    "    val_report = inference_loop(val_loader, model, loss_fn, device)\n",
    "\n",
    "    if val_report[\"loss\"] < best_val_loss:\n",
    "        print(\"Better Model Found. Saving the Better Model.\")\n",
    "        torch.save(model.state_dict(), os.path.join(\n",
    "            model_out_path, \"best_model.pt\"))\n",
    "\n",
    "    print(\n",
    "        f\"Val Loss : {val_report['loss']}, Num True : {val_report['num_true']}, Num Total : {val_report['num_total']}\")\n",
    "\n",
    "    full_report[\"training\"].append(train_report)\n",
    "    full_report[\"validation\"].append(val_report)\n",
    "print(\"Training Completed Successfully\")\n"
   ]
  },
  {
   "cell_type": "code",
   "execution_count": 11,
   "metadata": {},
   "outputs": [
    {
     "data": {
      "text/plain": [
       "<matplotlib.legend.Legend at 0x7f54b41e6da0>"
      ]
     },
     "execution_count": 11,
     "metadata": {},
     "output_type": "execute_result"
    },
    {
     "data": {
      "image/png": "[encoded data removed]",
      "text/plain": [
       "<Figure size 1600x800 with 2 Axes>"
      ]
     },
     "metadata": {},
     "output_type": "display_data"
    }
   ],
   "source": [
    "# visualize the training and validation.\n",
    "train_loss = [report[\"loss\"] for report in full_report[\"training\"]]\n",
    "train_accuracy = [report[\"num_true\"]/report[\"num_total\"] for report in full_report[\"training\"]]\n",
    "\n",
    "val_loss = [report[\"loss\"] for report in full_report[\"validation\"]]\n",
    "val_accuracy = [report[\"num_true\"]/report[\"num_total\"] for report in full_report[\"validation\"]]\n",
    "\n",
    "fig, axs = plt.subplots(2, 1, figsize=(16, 8))\n",
    "axs[0].set_title(\"Epochwise loss evolution during training\")\n",
    "axs[0].plot(range(param_dict[\"num_epochs\"]), train_loss, c=\"r\", label=\"Training\")\n",
    "axs[0].plot(range(param_dict[\"num_epochs\"]), val_loss, c=\"b\", label=\"Validation\")\n",
    "axs[0].legend()\n",
    "\n",
    "axs[1].set_title(\"Epochwise accuracy evolution during training\")\n",
    "axs[1].plot(range(param_dict[\"num_epochs\"]), train_accuracy, c=\"r\", label=\"Training\")\n",
    "axs[1].plot(range(param_dict[\"num_epochs\"]), val_accuracy, c=\"b\", label=\"Validation\")\n",
    "axs[1].legend()"
   ]
  },
  {
   "cell_type": "code",
   "execution_count": 12,
   "metadata": {},
   "outputs": [
    {
     "name": "stdout",
     "output_type": "stream",
     "text": [
      "Testing Started\n",
      "Test Loss : 0.8524270551219867, Num True : 6885.0, Num Total : 10000, Accuracy : 68.85%\n"
     ]
    }
   ],
   "source": [
    "# load and benchmark results on the best model.\n",
    "best_model_state_dict = torch.load(\n",
    "    os.path.join(model_out_path, \"best_model.pt\"))\n",
    "best_model = FashionMNISTNet(param_dict).to(device)\n",
    "best_model.load_state_dict(best_model_state_dict)\n",
    "\n",
    "print(\"Testing Started\")\n",
    "test_report = inference_loop(test_loader, best_model, loss_fn, device)\n",
    "\n",
    "test_loss = test_report['loss']\n",
    "test_true = test_report['num_true']\n",
    "test_total = test_report['num_total']\n",
    "test_accuracy = (test_true/test_total) * 100 \n",
    "\n",
    "print(f\"Test Loss : {test_loss}, Num True : {test_true}, Num Total : {test_total}, Accuracy : {test_accuracy}%\")\n",
    "full_report[\"testing\"] = test_report\n"
   ]
  },
  {
   "cell_type": "code",
   "execution_count": 13,
   "metadata": {},
   "outputs": [],
   "source": [
    "#save the train, validation and test reports for future reference.\n",
    "with open(os.path.join(report_out_path, \"full_report.pickle\"), \"wb\") as fp:\n",
    "    pickle.dump(full_report, fp)"
   ]
  }
 ],
 "metadata": {
  "kernelspec": {
   "display_name": "base",
   "language": "python",
   "name": "python3"
  },
  "language_info": {
   "codemirror_mode": {
    "name": "ipython",
    "version": 3
   },
   "file_extension": ".py",
   "mimetype": "text/x-python",
   "name": "python",
   "nbconvert_exporter": "python",
   "pygments_lexer": "ipython3",
   "version": "3.10.12"
  },
  "orig_nbformat": 4,
  "vscode": {
   "interpreter": {
    "hash": "88279d2366fe020547cde40dd65aa0e3aa662a6ec1f3ca12d88834876c85e1a6"
   }
  }
 },
 "nbformat": 4,
 "nbformat_minor": 2
}
